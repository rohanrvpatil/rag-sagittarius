{
 "cells": [
  {
   "cell_type": "code",
   "execution_count": 1,
   "id": "8d5497e7",
   "metadata": {},
   "outputs": [],
   "source": [
    "#testing whether api keys are stored or not\n",
    "\n",
    "import os\n",
    "#print(os.environ[\"GROQ_API_KEY\"])\n",
    "#print(os.environ[\"PINECONE_API_KEY\"])"
   ]
  },
  {
   "cell_type": "code",
   "execution_count": null,
   "id": "a2bcc4be",
   "metadata": {},
   "outputs": [],
   "source": [
    "#Start executing code from below"
   ]
  },
  {
   "cell_type": "code",
   "execution_count": 1,
   "id": "a36f068b-d8f4-4e80-84d4-36853a9fb39e",
   "metadata": {},
   "outputs": [],
   "source": [
    "# Groq LLM is used as OpenAI API is a paid service\n",
    "\n",
    "from langchain_groq import ChatGroq\n",
    "\n",
    "llm = ChatGroq(model=\"llama3-8b-8192\")"
   ]
  },
  {
   "cell_type": "code",
   "execution_count": 3,
   "id": "787354a0-7d5b-4bf0-8656-57e629b92fac",
   "metadata": {},
   "outputs": [
    {
     "name": "stderr",
     "output_type": "stream",
     "text": [
      "C:\\Users\\Admin\\AppData\\Local\\Temp\\ipykernel_11228\\978250695.py:16: LangChainDeprecationWarning: Default values for HuggingFaceEmbeddings.model_name were deprecated in LangChain 0.2.16 and will be removed in 0.4.0. Explicitly pass a model_name to the HuggingFaceEmbeddings constructor instead.\n",
      "  embeddings = HuggingFaceEmbeddings() #this function generates embeddings\n",
      "d:\\Rohan\\ML\\Projects\\rag_saggitarius\\venv\\Lib\\site-packages\\sentence_transformers\\cross_encoder\\CrossEncoder.py:13: TqdmWarning: IProgress not found. Please update jupyter and ipywidgets. See https://ipywidgets.readthedocs.io/en/stable/user_install.html\n",
      "  from tqdm.autonotebook import tqdm, trange\n",
      "d:\\Rohan\\ML\\Projects\\rag_saggitarius\\venv\\Lib\\site-packages\\transformers\\utils\\hub.py:127: FutureWarning: Using `TRANSFORMERS_CACHE` is deprecated and will be removed in v5 of Transformers. Use `HF_HOME` instead.\n",
      "  warnings.warn(\n",
      "d:\\Rohan\\ML\\Projects\\rag_saggitarius\\venv\\Lib\\site-packages\\transformers\\tokenization_utils_base.py:1601: FutureWarning: `clean_up_tokenization_spaces` was not set. It will be set to `True` by default. This behavior will be depracted in transformers v4.45, and will be then set to `False` by default. For more details check this issue: https://github.com/huggingface/transformers/issues/31884\n",
      "  warnings.warn(\n"
     ]
    }
   ],
   "source": [
    "from langchain.text_splitter import CharacterTextSplitter\n",
    "from langchain.document_loaders import TextLoader\n",
    "from langchain.embeddings import HuggingFaceEmbeddings\n",
    "\n",
    "loader = TextLoader('./data.txt')\n",
    "\n",
    "#reading the content of file. It contains info on how July 2024 will be for people of Sagittarius zodiac sign.\n",
    "#info is obtained from a Hindustan Times article\n",
    "documents = loader.load() \n",
    "\n",
    "#text is split into smaller chunks of size 1000 characters each,\n",
    "#context_overlap helps model in understanding context between chunks.\n",
    "text_splitter = CharacterTextSplitter(chunk_size=1000, chunk_overlap=4) \n",
    "docs = text_splitter.split_documents(documents)\n",
    "\n",
    "embeddings = HuggingFaceEmbeddings() #this function generates embeddings"
   ]
  },
  {
   "cell_type": "code",
   "execution_count": 4,
   "id": "9a3b6b85-d639-46d0-9337-777b219535ec",
   "metadata": {},
   "outputs": [
    {
     "data": {
      "text/plain": [
       "'This July, Sagittarius can expect positive changes in love, career, finances, and health. Your optimistic and adventurous spirit will guide you to success in your career endeavors this month. July brings an abundance of opportunities and optimism for Sagittarians. You will experience growth and positive changes in various aspects of your life, including love, career, money, and health. Overall, expect financial stability and growth throughout the month. This month, Sagittarius, your love life takes a delightful turn. If youâ€™re single, expect new romantic interests to emerge, possibly leading to a meaningful relationship. Those already in relationships will find deeper emotional connections with their partners. Communication is keyâ€”open up and express your feelings honestly. Be mindful of your partnerâ€™s needs and work towards mutual understanding. Sagittarians will find their career paths illuminated with new opportunities and possibilities this July. You may receive recognition for your hard work, leading to potential promotions or new responsibilities. Collaboration with colleagues will be beneficial, and your innovative ideas will be appreciated. This is a great time to set new professional goals and work towards them diligently. Stay focused and donâ€™t shy away from taking calculated risks. Financially, July brings promising prospects for Sagittarians. You may find new income sources or profitable investments. This is an excellent time to reassess your financial plans and make informed decisions about savings and expenditures. Be cautious with unnecessary spending and prioritize long-term financial security. Consulting with a financial advisor could provide valuable insights. Your health and well-being will see a positive boost this July, Sagittarius. Focus on maintaining a balanced lifestyle, incorporating regular exercise, and healthy eating habits. Mental health is equally importantâ€”consider practices like meditation or yoga to reduce stress. Pay attention to any minor health issues and address them promptly to prevent them from escalating. Staying hydrated and getting adequate rest will also be crucial.'"
      ]
     },
     "execution_count": 4,
     "metadata": {},
     "output_type": "execute_result"
    }
   ],
   "source": [
    "documents[0].page_content"
   ]
  },
  {
   "cell_type": "code",
   "execution_count": 6,
   "id": "3ed1ec63-03a7-4cd4-b4d4-f70f9b45a9c0",
   "metadata": {},
   "outputs": [],
   "source": [
    "from langchain.vectorstores import Pinecone\n",
    "from pinecone.grpc import PineconeGRPC as Pinecone\n",
    "from pinecone import ServerlessSpec\n",
    "\n",
    "import os\n",
    "\n",
    "from pinecone import Pinecone\n",
    "from langchain_pinecone import PineconeVectorStore\n",
    "\n",
    "pc = Pinecone(api_key=os.environ[\"PINECONE_API_KEY\"]) # an instance of pinecone is created\n",
    "index_name = \"rag-index\" # we need to create a what is called index. Here the vectors are stored\n",
    "\n",
    "\n",
    "if index_name not in pc.list_indexes().names():\n",
    "  pc.create_index(name=index_name, metric=\"cosine\", dimension=768, spec=ServerlessSpec(\n",
    "            cloud='aws', \n",
    "            region='us-east-1'\n",
    "        ) )\n",
    "  docsearch = Pinecone.from_documents(docs, embeddings, index_name=index_name) #docsearch stores the embeddings of the docs\n",
    "else:\n",
    "  docsearch = PineconeVectorStore.from_texts(texts=docs[0].page_content,embedding=embeddings, index_name=index_name) \n",
    "  # docs[0] might be wrong. documents[0] might be correct"
   ]
  },
  {
   "cell_type": "code",
   "execution_count": 7,
   "id": "e3e6fdc7-5f73-4e31-8a32-a5c9413b658f",
   "metadata": {},
   "outputs": [],
   "source": [
    "from langchain import PromptTemplate\n",
    "\n",
    "template = \"\"\"\n",
    "You are a fortune teller. This human will ask you questions about their life. \n",
    "Use following piece of context to answer the question. \n",
    "If you don't know the answer, just say you don't know. \n",
    "Keep the answer within 2 sentences and concise.\n",
    "\n",
    "Context: {context}\n",
    "Question: {question}\n",
    "Answer: \n",
    "\n",
    "\"\"\"\n",
    "#this is the prompt which will help us in generating an answer\n",
    "prompt = PromptTemplate(\n",
    "  template=template, \n",
    "  input_variables=[\"context\", \"question\"]\n",
    ")"
   ]
  },
  {
   "cell_type": "code",
   "execution_count": 8,
   "id": "cbecf3ff-f209-457a-ba49-4b3a92a6436b",
   "metadata": {},
   "outputs": [],
   "source": [
    "from langchain.schema.runnable import RunnablePassthrough\n",
    "from langchain.schema.output_parser import StrOutputParser\n",
    "\n",
    "#docsearch contains the context (info about July 2024 of Sagittarius people)\n",
    "#RunnablePassThrough() passes the question to the next part of the RAG chain\n",
    "#prompt puts the context and question into the required format\n",
    "#llm generates response based on the prompt\n",
    "#StrOutputParser() parses the LLM's response into a clean, formatted string\n",
    "rag_chain = (\n",
    "  {\"context\": docsearch.as_retriever(),  \"question\": RunnablePassthrough()} \n",
    "  | prompt \n",
    "  | llm\n",
    "  | StrOutputParser() \n",
    ")"
   ]
  },
  {
   "cell_type": "code",
   "execution_count": 9,
   "id": "6ede3a1f-cedc-44c0-bc9f-68c0c299b075",
   "metadata": {},
   "outputs": [
    {
     "name": "stdout",
     "output_type": "stream",
     "text": [
      "A look into your July 2024 reveals a busy and exciting period ahead! Expect a surge in your professional life, with new opportunities and challenges that will help you grow and learn.\n"
     ]
    }
   ],
   "source": [
    "result = rag_chain.invoke(\"How will my July 2024 be?\") #RAG process starts working here and a response is generated\n",
    "print(result)"
   ]
  },
  {
   "cell_type": "code",
   "execution_count": null,
   "id": "4f63eb00",
   "metadata": {},
   "outputs": [],
   "source": []
  },
  {
   "cell_type": "code",
   "execution_count": null,
   "id": "7a3ba1e0-2416-42c6-9cd7-52412cc66f41",
   "metadata": {},
   "outputs": [],
   "source": []
  }
 ],
 "metadata": {
  "kernelspec": {
   "display_name": "Python 3 (ipykernel)",
   "language": "python",
   "name": "python3"
  },
  "language_info": {
   "codemirror_mode": {
    "name": "ipython",
    "version": 3
   },
   "file_extension": ".py",
   "mimetype": "text/x-python",
   "name": "python",
   "nbconvert_exporter": "python",
   "pygments_lexer": "ipython3",
   "version": "3.11.9"
  }
 },
 "nbformat": 4,
 "nbformat_minor": 5
}
